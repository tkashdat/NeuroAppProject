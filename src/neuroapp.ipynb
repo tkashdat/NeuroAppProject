{
 "cells": [
  {
   "cell_type": "markdown",
   "metadata": {},
   "source": [
    "Welcome to the Neuroscience MRI visualization Application \n",
    "\n",
    "Tiffany Kashima\n",
    "\n",
    "Arizona State University\n",
    "\n",
    "School of Complex Adaptive Science"
   ]
  },
  {
   "cell_type": "code",
   "execution_count": 1,
   "metadata": {},
   "outputs": [],
   "source": [
    "\"\"\" The application enviornment started with a wide base installation of libraries and packages useful for neuroscience data.\n",
    "The purpose is to allow agile exploration of these tools in the notebook, making comparisons and ultimately a decision to keep or use\n",
    "each one.  The final enviornment file will reflect only the libraries and packages that are actually used in the final codebase.  \"\"\"\n",
    "\n",
    "import imageio as iio\n",
    "import data_loading_functions as df\n",
    "import app_functions as af\n",
    "import matplotlib.pyplot as plt\n",
    "%matplotlib inline\n",
    "import ipywidgets as widgets"
   ]
  },
  {
   "cell_type": "code",
   "execution_count": null,
   "metadata": {},
   "outputs": [
    {
     "name": "stdout",
     "output_type": "stream",
     "text": [
      "Reading DICOM (examining files): 1/184 files (0.5166/184 files (90.2%184/184 files (100.0%)\n",
      "  Found 1 correct series.\n",
      "Reading DICOM (loading data): 184/184  (100.0%)\n"
     ]
    },
    {
     "data": {
      "text/plain": [
       "imageio.core.util.Array"
      ]
     },
     "execution_count": 3,
     "metadata": {},
     "output_type": "execute_result"
    }
   ],
   "source": [
    "#load study fole folder and save to a local variable, show basic info\n",
    "\n",
    "myStudy = df.loadVolume()\n",
    "type(myStudy)"
   ]
  },
  {
   "cell_type": "code",
   "execution_count": null,
   "metadata": {},
   "outputs": [],
   "source": [
    "#display meta data from study\n",
    "\n",
    "af.metaData(myStudy)"
   ]
  },
  {
   "cell_type": "code",
   "execution_count": null,
   "metadata": {},
   "outputs": [],
   "source": [
    "#number of slices for each view\n",
    "\n",
    "af.numSlices(myStudy)"
   ]
  },
  {
   "cell_type": "code",
   "execution_count": null,
   "metadata": {},
   "outputs": [],
   "source": [
    "#show one slice\n",
    "\n",
    "af.showSlice(myStudy)"
   ]
  },
  {
   "cell_type": "code",
   "execution_count": null,
   "metadata": {},
   "outputs": [],
   "source": [
    "# show array of one slice (first slice)\n",
    "myStudy[0]"
   ]
  },
  {
   "cell_type": "code",
   "execution_count": null,
   "metadata": {},
   "outputs": [],
   "source": [
    "# first column\n",
    "myStudy[:,0]"
   ]
  },
  {
   "cell_type": "code",
   "execution_count": null,
   "metadata": {},
   "outputs": [],
   "source": [
    "# show one slice in a specific view using the bone cmap as an example, allowing user to pick axis and slice number\n",
    "af.pickSliceAxis(myStudy)"
   ]
  },
  {
   "cell_type": "code",
   "execution_count": null,
   "metadata": {},
   "outputs": [],
   "source": [
    "# add to this by allowing user to pick color as well\n",
    "af.completeSlice(myStudy, af.sliceColor())"
   ]
  },
  {
   "cell_type": "code",
   "execution_count": null,
   "metadata": {},
   "outputs": [],
   "source": [
    "s0, s1, s2 = af.numSlices(myStudy)\n",
    "\n",
    "@widgets.interact_manual(\n",
    "    color=['jet', 'bone', 'cmap'], axial=(0,s0-1), coronal=(0,s1-1), transverse=(0,s2-1))\n",
    "def imageViewer():\n",
    "    fig, ax = plt.subplots(1,3,figsize=(8,8))\n",
    "    a0, a1, a2 = af.getAspectRatio(study)\n",
    "\n",
    "    ax[0].imshow(study[axial,:,:], cmap = color, aspect=a0)\n",
    "    ax[0].axis('off')\n",
    "    ax[0].set_title('Axial')\n",
    "\n",
    "    ax[1].imshow(study[:,coronal,:], cmap = color, aspect=a1)\n",
    "    ax[1].axis('off')\n",
    "    ax[1].set_title('Coronal')\n",
    "\n",
    "    ax[2].imshow(study[:,:,transverse], cmap = color, aspect=a2)\n",
    "    ax[2].axis('off')\n",
    "    ax[2].set_title('Transverse')"
   ]
  }
 ],
 "metadata": {
  "kernelspec": {
   "display_name": "NeuroApp",
   "language": "python",
   "name": "python3"
  },
  "language_info": {
   "codemirror_mode": {
    "name": "ipython",
    "version": 3
   },
   "file_extension": ".py",
   "mimetype": "text/x-python",
   "name": "python",
   "nbconvert_exporter": "python",
   "pygments_lexer": "ipython3",
   "version": "3.11.11"
  }
 },
 "nbformat": 4,
 "nbformat_minor": 2
}
